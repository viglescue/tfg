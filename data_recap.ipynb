{
 "cells": [
  {
   "cell_type": "code",
   "execution_count": 9,
   "id": "edc76cb5-cd34-4e36-b92b-7af8b0eadde1",
   "metadata": {},
   "outputs": [],
   "source": [
    "FEATURES_PATH = 'DEAM/features'\n",
    "VALENCE_FILE = 'DEAM/annotations/annotations averaged per song/song_level/static_annotations_averaged_songs_1_2000.csv'\n",
    "GENRE_FILE = 'DEAM/metadata/metadata_2013.csv'\n",
    "\n",
    "NUMBER_FILES = 2000\n",
    "\n",
    "import csv\n",
    "import os\n",
    "import pandas as pd\n",
    "import numpy as np\n"
   ]
  },
  {
   "cell_type": "markdown",
   "id": "3941e72f-24a6-493b-a0a8-67187fd14979",
   "metadata": {},
   "source": [
    "# Extracción de la media de las caracterísitcas para cada canción"
   ]
  },
  {
   "cell_type": "code",
   "execution_count": 3,
   "id": "bb948236-5a9c-491d-b093-a8c06c99f5fe",
   "metadata": {},
   "outputs": [],
   "source": [
    "def loadFeaturesFromFile (file_name):\n",
    "    features_values = []\n",
    "    with open('DEAM/features/' + file_name, newline='') as csvfile:\n",
    "        data = list(csv.reader(csvfile, delimiter=';'))\n",
    "    for i in range (1, len(data[1])):\n",
    "        media = 0.0\n",
    "        suma = 0.0\n",
    "        #print(data[0][i], end=\"\" + \" = \")\n",
    "        for j in range (1, len(data)):\n",
    "            #print(str(float(data[j][i]))+ \", \", end=\"\")  \n",
    "            suma += float((data[j][i]))\n",
    "            #suma = suma + float((data[j][i]))\n",
    "            media = suma / (len(data) - 1)\n",
    "        #print(media)\n",
    "        #print(\"\")\n",
    "        features_values.append(media)\n",
    "    return features_values\n",
    "    #print(features_values)\n",
    "#loadFeaturesFromFile('2.csv')"
   ]
  },
  {
   "cell_type": "markdown",
   "id": "1b8b05e4-d3dd-49d6-be3b-115d6e37e0b7",
   "metadata": {},
   "source": [
    "# Extracción de nombre de las caracterísiticas"
   ]
  },
  {
   "cell_type": "code",
   "execution_count": 4,
   "id": "b80bc370-775d-4147-8657-86ca74593065",
   "metadata": {},
   "outputs": [],
   "source": [
    "def extractFeaturesNames():\n",
    "    with open('DEAM/features/2.csv', newline='') as csvfile:\n",
    "        data = list(csv.reader(csvfile, delimiter=';'))\n",
    "    features = data[0]\n",
    "    features = features[1:]\n",
    "    #print(len(features))\n",
    "    #print(features)\n",
    "    return features\n",
    "\n",
    "features = extractFeaturesNames()"
   ]
  },
  {
   "cell_type": "markdown",
   "id": "6a78daf9-a403-453f-b5e1-197c6f8c5f0f",
   "metadata": {},
   "source": [
    "# Crear tabla con las características por canción y los datos de valencia y activación"
   ]
  },
  {
   "cell_type": "code",
   "execution_count": 7,
   "id": "c938a9fe-ebd8-4014-920d-5c4a777d1855",
   "metadata": {},
   "outputs": [
    {
     "name": "stdout",
     "output_type": "stream",
     "text": [
      "['122.csv', '736.csv', '1042.csv', '1275.csv', '1892.csv', '1449.csv', '796.csv', '961.csv', '326.csv', '490.csv', '85.csv', '246.csv', '882.csv', '1181.csv', '1426.csv', '745.csv', '178.csv', '1265.csv', '1215.csv', '886.csv', '1055.csv', '1497.csv', '395.csv', '2043.csv', '1724.csv', '104.csv', '1468.csv', '1056.csv', '1121.csv', '958.csv', '134.csv', '1039.csv', '1355.csv', '1356.csv', '369.csv', '769.csv', '1252.csv', '613.csv', '1762.csv', '1509.csv', '1880.csv', '1710.csv', '503.csv', '2058.csv', '92.csv', '1028.csv', '218.csv', '1403.csv', '1896.csv', '1030.csv', '1230.csv', '1564.csv', '1015.csv', '329.csv', '358.csv', '1046.csv', '248.csv', '1287.csv', '339.csv', '658.csv', '1180.csv', '383.csv', '518.csv', '347.csv', '360.csv', '1870.csv', '864.csv', '451.csv', '1712.csv', '687.csv', '936.csv', '105.csv', '1584.csv', '740.csv', '1735.csv', '1091.csv', '402.csv', '979.csv', '1733.csv', '1404.csv', '233.csv', '1974.csv', '1503.csv', '1608.csv', '1474.csv', '1832.csv', '859.csv', '690.csv', '1430.csv', '1034.csv', '1913.csv', '328.csv', '1635.csv', '2049.csv', '84.csv', '876.csv', '1625.csv', '1219.csv', '1684.csv', '1446.csv', '195.csv', '1003.csv', '1550.csv', '1741.csv', '1271.csv', '1443.csv', '1904.csv', '1147.csv', '1379.csv', '1643.csv', '1020.csv', '49.csv', '441.csv', '1284.csv', '1759.csv', '1717.csv', '1105.csv', '1556.csv', '991.csv', '799.csv', '1433.csv', '2019.csv', '645.csv', '1119.csv', '324.csv', '1963.csv', '1131.csv', '1256.csv', '334.csv', '1543.csv', '145.csv', '568.csv', '1352.csv', '1842.csv', '96.csv', '364.csv', '1577.csv', '2037.csv', '98.csv', '648.csv', '257.csv', '844.csv', '1797.csv', '1682.csv', '1134.csv', '911.csv', '2055.csv', '1665.csv', '1858.csv', '704.csv', '748.csv', '988.csv', '1780.csv', '1894.csv', '1240.csv', '1035.csv', '1198.csv', '1152.csv', '1351.csv', '112.csv', '250.csv', '1211.csv', '1754.csv', '393.csv', '1294.csv', '2048.csv', '1079.csv', '688.csv', '1926.csv', '1639.csv', '615.csv', '1360.csv', '767.csv', '311.csv', '1496.csv', '1711.csv', '773.csv', '1673.csv', '1288.csv', '1063.csv', '270.csv', '48.csv', '715.csv', '1513.csv', '823.csv', '1633.csv', '365.csv', '1205.csv', '620.csv', '1866.csv', '580.csv', '974.csv', '1508.csv', '1746.csv', '1861.csv', '1930.csv', '879.csv', '1598.csv', '684.csv', '137.csv', '2028.csv', '1114.csv', '384.csv', '1321.csv', '87.csv', '113.csv', '1238.csv', '1038.csv', '1585.csv', '1047.csv', '1692.csv', '1580.csv', '1807.csv', '1578.csv', '1616.csv', '1909.csv', '317.csv', '45.csv', '1650.csv', '158.csv', '2003.csv', '1565.csv', '1753.csv', '1524.csv', '1751.csv', '345.csv', '456.csv', '537.csv', '2054.csv', '2002.csv', '288.csv', '515.csv', '1562.csv', '440.csv', '1560.csv', '1910.csv', '584.csv', '1637.csv', '1700.csv', '1923.csv', '1148.csv', '1054.csv', '725.csv', '82.csv', '1488.csv', '374.csv', '1226.csv', '1410.csv', '621.csv', '1895.csv', '1455.csv', '378.csv', '1535.csv', '320.csv', '76.csv', '159.csv', '714.csv', '294.csv', '286.csv', '482.csv', '1666.csv', '1853.csv', '1567.csv', '1498.csv', '1765.csv', '1855.csv', '1547.csv', '707.csv', '1364.csv', '1124.csv', '1013.csv', '1761.csv', '186.csv', '1572.csv', '898.csv', '1025.csv', '899.csv', '1193.csv', '1132.csv', '706.csv', '35.csv', '1882.csv', '1737.csv', '697.csv', '2056.csv', '1742.csv', '285.csv', '117.csv', '1192.csv', '1457.csv', '171.csv', '1908.csv', '1935.csv', '941.csv', '945.csv', '2032.csv', '1060.csv', '219.csv', '346.csv', '1907.csv', '284.csv', '1476.csv', '1924.csv', '260.csv', '1533.csv', '667.csv', '90.csv', '1823.csv', '2018.csv', '1605.csv', '1956.csv', '1515.csv', '1952.csv', '1377.csv', '1301.csv', '150.csv', '1145.csv', '1982.csv', '442.csv', '463.csv', '1985.csv', '1151.csv', '904.csv', '1432.csv', '676.csv', '1850.csv', '232.csv', '1452.csv', '811.csv', '386.csv', '325.csv', '258.csv', '1887.csv', '1246.csv', '1313.csv', '1595.csv', '1094.csv', '814.csv', '264.csv', '196.csv', '276.csv', '236.csv', '1708.csv', '820.csv', '874.csv', '1190.csv', '269.csv', '1903.csv', '478.csv', '368.csv', '67.csv', '1664.csv', '1154.csv', '1677.csv', '1516.csv', '1679.csv', '422.csv', '1713.csv', '1627.csv', '399.csv', '123.csv', '458.csv', '582.csv', '1244.csv', '1798.csv', '1588.csv', '207.csv', '1349.csv', '1050.csv', '1308.csv', '1327.csv', '1947.csv', '1173.csv', '1559.csv', '995.csv', '1479.csv', '873.csv', '775.csv', '1397.csv', '902.csv', '1309.csv', '1900.csv', '708.csv', '1934.csv', '819.csv', '1077.csv', '1439.csv', '1675.csv', '1361.csv', '316.csv', '167.csv', '692.csv', '1012.csv', '152.csv', '1769.csv', '338.csv', '702.csv', '913.csv', '1068.csv', '1127.csv', '1553.csv', '1661.csv', '647.csv', '1821.csv', '1921.csv', '206.csv', '1183.csv', '1330.csv', '1490.csv', '1720.csv', '1333.csv', '1465.csv', '72.csv', '274.csv', '58.csv', '3.csv', '431.csv', '1487.csv', '148.csv', '617.csv', '1537.csv', '1033.csv', '1199.csv', '415.csv', '1986.csv', '1169.csv', '1177.csv', '244.csv', '278.csv', '1396.csv', '309.csv', '710.csv', '1095.csv', '1950.csv', '1107.csv', '1162.csv', '1447.csv', '181.csv', '2034.csv', '1157.csv', '1316.csv', '239.csv', '416.csv', '1636.csv', '1234.csv', '1218.csv', '1782.csv', '1197.csv', '444.csv', '1000.csv', '1734.csv', '217.csv', '978.csv', '558.csv', '1989.csv', '466.csv', '432.csv', '1176.csv', '962.csv', '1053.csv', '1389.csv', '856.csv', '1793.csv', '672.csv', '1225.csv', '727.csv', '425.csv', '89.csv', '1694.csv', '1005.csv', '390.csv', '1615.csv', '174.csv', '1756.csv', '1332.csv', '955.csv', '797.csv', '1593.csv', '1727.csv', '335.csv', '1291.csv', '1103.csv', '1311.csv', '1339.csv', '1988.csv', '1597.csv', '52.csv', '1206.csv', '486.csv', '606.csv', '1160.csv', '1863.csv', '340.csv', '1491.csv', '1927.csv', '1461.csv', '1425.csv', '1854.csv', '1773.csv', '101.csv', '1518.csv', '293.csv', '813.csv', '1857.csv', '1738.csv', '556.csv', '1067.csv', '1210.csv', '1262.csv', '1534.csv', '1202.csv', '499.csv', '1188.csv', '1369.csv', '1022.csv', '1964.csv', '1414.csv', '1110.csv', '1824.csv', '1273.csv', '1878.csv', '209.csv', '1898.csv', '1249.csv', '743.csv', '1253.csv', '17.csv', '1599.csv', '1967.csv', '696.csv', '1975.csv', '1591.csv', '970.csv', '1374.csv', '125.csv', '994.csv', '1981.csv', '931.csv', '1561.csv', '1037.csv', '1445.csv', '1589.csv', '149.csv', '1510.csv', '387.csv', '1495.csv', '1299.csv', '1901.csv', '1871.csv', '1117.csv', '2017.csv', '1057.csv', '1233.csv', '957.csv', '1755.csv', '114.csv', '7.csv', '1787.csv', '1341.csv', '401.csv', '1827.csv', '2008.csv', '1178.csv', '1990.csv', '1704.csv', '502.csv', '1279.csv', '1454.csv', '1504.csv', '1653.csv', '1791.csv', '1089.csv', '1307.csv', '1442.csv', '210.csv', '597.csv', '74.csv', '273.csv', '1662.csv', '272.csv', '1391.csv', '169.csv', '908.csv', '1010.csv', '1370.csv', '956.csv', '78.csv', '1919.csv', '1732.csv', '1707.csv', '1970.csv', '1280.csv', '1421.csv', '1070.csv', '1084.csv', '1140.csv', '1082.csv', '19.csv', '866.csv', '1098.csv', '1961.csv', '1125.csv', '420.csv', '1412.csv', '1848.csv', '857.csv', '1494.csv', '1469.csv', '289.csv', '237.csv', '1536.csv', '1451.csv', '1816.csv', '1604.csv', '254.csv', '1359.csv', '671.csv', '1044.csv', '1411.csv', '1065.csv', '1462.csv', '1229.csv', '297.csv', '2011.csv', '247.csv', '1120.csv', '461.csv', '1163.csv', '1905.csv', '428.csv', '1480.csv', '1272.csv', '323.csv', '2000.csv', '65.csv', '1596.csv', '1601.csv', '319.csv', '1115.csv', '657.csv', '1260.csv', '1971.csv', '1999.csv', '1302.csv', '1587.csv', '1977.csv', '1579.csv', '1387.csv', '348.csv', '306.csv', '492.csv', '524.csv', '1066.csv', '987.csv', '477.csv', '520.csv', '102.csv', '1531.csv', '1150.csv', '644.csv', '649.csv', '70.csv', '782.csv', '756.csv', '1632.csv', '713.csv', '1436.csv', '292.csv', '370.csv', '437.csv', '651.csv', '1645.csv', '1613.csv', '1617.csv', '203.csv', '1448.csv', '717.csv', '1808.csv', '1525.csv', '1441.csv', '1159.csv', '302.csv', '189.csv', '1810.csv', '1659.csv', '1918.csv', '1729.csv', '735.csv', '2009.csv', '689.csv', '262.csv', '1097.csv', '591.csv', '600.csv', '581.csv', '489.csv', '1106.csv', '1170.csv', '2057.csv', '1116.csv', '1583.csv', '731.csv', '1201.csv', '459.csv', '1750.csv', '643.csv', '1690.csv', '187.csv', '711.csv', '1941.csv', '1876.csv', '1987.csv', '1444.csv', '109.csv', '1478.csv', '1683.csv', '574.csv', '695.csv', '1254.csv', '1277.csv', '1435.csv', '1705.csv', '80.csv', '1939.csv', '1429.csv', '1276.csv', '1660.csv', '2015.csv', '379.csv', '999.csv', '44.csv', '1581.csv', '1072.csv', '1612.csv', '18.csv', '1766.csv', '1716.csv', '2021.csv', '1929.csv', '1954.csv', '1489.csv', '1467.csv', '1345.csv', '1267.csv', '1938.csv', '1204.csv', '450.csv', '1743.csv', '188.csv', '397.csv', '1502.csv', '1427.csv', '2047.csv', '1485.csv', '652.csv', '650.csv', '976.csv', '497.csv', '1667.csv', '759.csv', '722.csv', '1955.csv', '1354.csv', '1522.csv', '1726.csv', '677.csv', '2042.csv', '1932.csv', '1813.csv', '1978.csv', '298.csv', '296.csv', '608.csv', '938.csv', '1326.csv', '795.csv', '860.csv', '1378.csv', '805.csv', '1392.csv', '1671.csv', '81.csv', '1949.csv', '1744.csv', '485.csv', '540.csv', '350.csv', '1642.csv', '227.csv', '1790.csv', '855.csv', '403.csv', '826.csv', '726.csv', '1076.csv', '719.csv', '1458.csv', '550.csv', '614.csv', '280.csv', '536.csv', '2007.csv', '307.csv', '612.csv', '831.csv', '198.csv', '798.csv', '1419.csv', '479.csv', '143.csv', '1760.csv', '1624.csv', '997.csv', '1747.csv', '1655.csv', '2025.csv', '1571.csv', '934.csv', '1303.csv', '1004.csv', '529.csv', '39.csv', '51.csv', '1631.csv', '1283.csv', '68.csv', '332.csv', '1925.csv', '1423.csv', '1586.csv', '1772.csv', '1529.csv', '243.csv', '1428.csv', '1523.csv', '1740.csv', '523.csv', '1670.csv', '1506.csv', '460.csv', '1778.csv', '1130.csv', '675.csv', '1614.csv', '1833.csv', '801.csv', '1111.csv', '352.csv', '730.csv', '279.csv', '1113.csv', '135.csv', '327.csv', '343.csv', '758.csv', '577.csv', '1654.csv', '1144.csv', '897.csv', '1837.csv', '1640.csv', '2024.csv', '1101.csv', '1634.csv', '215.csv', '985.csv', '858.csv', '103.csv', '1227.csv', '361.csv', '1718.csv', '1959.csv', '1417.csv', '845.csv', '815.csv', '1200.csv', '1384.csv', '1259.csv', '1395.csv', '54.csv', '133.csv', '1911.csv', '455.csv', '547.csv', '852.csv', '1804.csv', '1031.csv', '1680.csv', '1906.csv', '375.csv', '1418.csv', '986.csv', '1437.csv', '1542.csv', '757.csv', '405.csv', '1365.csv', '506.csv', '156.csv', '800.csv', '265.csv', '1507.csv', '1843.csv', '1865.csv', '234.csv', '903.csv', '1514.csv', '1721.csv', '429.csv', '1440.csv', '1112.csv', '825.csv', '829.csv', '1758.csv', '221.csv', '806.csv', '1557.csv', '949.csv', '8.csv', '464.csv', '1045.csv', '1350.csv', '1809.csv', '282.csv', '107.csv', '77.csv', '1482.csv', '1835.csv', '2030.csv', '2044.csv', '977.csv', '1885.csv', '1261.csv', '1268.csv', '1310.csv', '86.csv', '1983.csv', '1607.csv', '1875.csv', '921.csv', '1179.csv', '222.csv', '1274.csv', '4.csv', '1995.csv', '213.csv', '693.csv', '605.csv', '1285.csv', '1945.csv', '1257.csv', '1323.csv', '1358.csv', '2027.csv', '1763.csv', '430.csv', '925.csv', '1194.csv', '400.csv', '519.csv', '1298.csv', '932.csv', '1960.csv', '1336.csv', '494.csv', '616.csv', '1869.csv', '1546.csv', '1652.csv', '305.csv', '1775.csv', '1779.csv', '275.csv', '700.csv', '1401.csv', '1400.csv', '1749.csv', '1817.csv', '1739.csv', '2014.csv', '1368.csv', '313.csv', '1836.csv', '83.csv', '488.csv', '180.csv', '95.csv', '115.csv', '942.csv', '166.csv', '1566.csv', '787.csv', '1621.csv', '1676.csv', '1886.csv', '427.csv', '522.csv', '1203.csv', '179.csv', '184.csv', '1409.csv', '452.csv', '1018.csv', '281.csv', '1962.csv', '1788.csv', '341.csv', '1658.csv', '20.csv', '1888.csv', '1007.csv', '500.csv', '939.csv', '129.csv', '1372.csv', '2038.csv', '1851.csv', '204.csv', '1129.csv', '1541.csv', '867.csv', '435.csv', '342.csv', '738.csv', '1609.csv', '1752.csv', '1890.csv', '1241.csv', '1657.csv', '1846.csv', '453.csv', '1086.csv', '1328.csv', '1678.csv', '2039.csv', '266.csv', '1696.csv', '1459.csv', '1600.csv', '1521.csv', '586.csv', '60.csv', '2045.csv', '25.csv', '1603.csv', '561.csv', '1893.csv', '1002.csv', '637.csv', '560.csv', '1450.csv', '1701.csv', '1342.csv', '168.csv', '1725.csv', '1406.csv', '1946.csv', '728.csv', '1879.csv', '1367.csv', '228.csv', '880.csv', '496.csv', '371.csv', '1185.csv', '47.csv', '182.csv', '1032.csv', '1825.csv', '850.csv', '1714.csv', '890.csv', '110.csv', '1840.csv', '1118.csv', '1969.csv', '223.csv', '1656.csv', '1058.csv', '1312.csv', '199.csv', '1300.csv', '1212.csv', '564.csv', '1728.csv', '1235.csv', '1936.csv', '1693.csv', '1166.csv', '1889.csv', '598.csv', '1826.csv', '661.csv', '366.csv', '225.csv', '41.csv', '928.csv', '1475.csv', '1407.csv', '1803.csv', '1286.csv', '240.csv', '1839.csv', '1075.csv', '1195.csv', '1153.csv', '794.csv', '108.csv', '663.csv', '737.csv', '592.csv', '1602.csv', '1290.csv', '1811.csv', '1399.csv', '2046.csv', '1501.csv', '1828.csv', '1422.csv', '423.csv', '585.csv', '1293.csv', '404.csv', '865.csv', '88.csv', '1243.csv', '681.csv', '892.csv', '910.csv', '1558.csv', '1295.csv', '1471.csv', '909.csv', '1715.csv', '1526.csv', '1385.csv', '718.csv', '1270.csv', '733.csv', '93.csv', '1872.csv', '1723.csv', '1074.csv', '79.csv', '2050.csv', '1228.csv', '1102.csv', '1096.csv', '871.csv', '1800.csv', '1802.csv', '1281.csv', '24.csv', '1484.csv', '1394.csv', '1785.csv', '631.csv', '1576.csv', '1789.csv', '1573.csv', '1026.csv', '1860.csv', '954.csv', '1136.csv', '804.csv', '1142.csv', '1951.csv', '50.csv', '1156.csv', '1006.csv', '893.csv', '71.csv', '1408.csv', '1698.csv', '1104.csv', '445.csv', '1859.csv', '1380.csv', '1792.csv', '628.csv', '1686.csv', '300.csv', '1158.csv', '1331.csv', '607.csv', '1346.csv', '1146.csv', '1768.csv', '1383.csv', '1829.csv', '1463.csv', '863.csv', '1912.csv', '1647.csv', '744.csv', '501.csv', '91.csv', '1466.csv', '380.csv', '836.csv', '790.csv', '2016.csv', '973.csv', '1040.csv', '408.csv', '1922.csv', '1231.csv', '1388.csv', '1994.csv', '118.csv', '1216.csv', '763.csv', '212.csv', '2053.csv', '1622.csv', '666.csv', '73.csv', '1269.csv', '1278.csv', '1168.csv', '996.csv', '1841.csv', '1628.csv', '1123.csv', '161.csv', '1505.csv', '224.csv', '1590.csv', '1649.csv', '1685.csv', '1324.csv', '723.csv', '344.csv', '1933.csv', '1781.csv', '330.csv', '887.csv', '791.csv', '781.csv', '889.csv', '2031.csv', '136.csv', '1731.csv', '304.csv', '1928.csv', '622.csv', '1719.csv', '1191.csv', '192.csv', '21.csv', '1329.csv', '140.csv', '535.csv', '1009.csv', '1237.csv', '915.csv', '1318.csv', '1297.csv', '220.csv', '1822.csv', '833.csv', '1899.csv', '872.csv', '359.csv', '116.csv', '1942.csv', '336.csv', '1644.csv', '1122.csv', '2010.csv', '1620.csv', '507.csv', '493.csv', '160.csv', '1532.csv', '1873.csv', '202.csv', '448.csv', '674.csv', '164.csv', '43.csv', '1282.csv', '660.csv', '1527.csv', '1393.csv', '1248.csv', '721.csv', '157.csv', '967.csv', '1221.csv', '146.csv', '777.csv', '1048.csv', '1126.csv', '1174.csv', '1296.csv', '419.csv', '356.csv', '1424.csv', '625.csv', '1477.csv', '579.csv', '1258.csv', '551.csv', '1568.csv', '1090.csv', '1186.csv', '1376.csv', '10.csv', '197.csv', '749.csv', '124.csv', '1363.csv', '521.csv', '1681.csv', '1709.csv', '1071.csv', '1545.csv', '173.csv', '1849.csv', '784.csv', '1078.csv', '480.csv', '120.csv', '1481.csv', '734.csv', '1695.csv', '1289.csv', '732.csv', '1167.csv', '391.csv', '1024.csv', '854.csv', '1538.csv', '1473.csv', '1264.csv', '1992.csv', '410.csv', '709.csv', '208.csv', '1774.csv', '1548.csv', '639.csv', '2013.csv', '315.csv', '449.csv', '1083.csv', '1554.csv', '1920.csv', '1189.csv', '981.csv', '1623.csv', '776.csv', '1343.csv', '1366.csv', '1320.csv', '594.csv', '1184.csv', '1611.csv', '682.csv', '504.csv', '469.csv', '1722.csv', '1884.csv', '144.csv', '454.csv', '484.csv', '190.csv', '1914.csv', '1745.csv', '242.csv', '226.csv', '119.csv', '1669.csv', '1214.csv', '473.csv', '1340.csv', '2006.csv', '1373.csv', '841.csv', '1672.csv', '1171.csv', '1456.csv', '1314.csv', '235.csv', '1431.csv', '1347.csv', '664.csv', '1139.csv', '1998.csv', '698.csv', '1325.csv', '1867.csv', '191.csv', '1023.csv', '1093.csv', '1109.csv', '1011.csv', '1338.csv', '1209.csv', '1453.csv', '1771.csv', '1972.csv', '1062.csv', '990.csv', '1877.csv', '834.csv', '1968.csv', '1196.csv', '154.csv', '952.csv', '1770.csv', '851.csv', '1371.csv', '818.csv', '1812.csv', '128.csv', '1499.csv', '1085.csv', '1799.csv', '59.csv', '1897.csv', '1703.csv', '1783.csv', '1019.csv', '1646.csv', '983.csv', '1940.csv', '170.csv', '673.csv', '1689.csv', '1891.csv', '481.csv', '1172.csv', '62.csv', '830.csv', '1979.csv', '1317.csv', '467.csv', '185.csv', '176.csv', '1492.csv', '367.csv', '724.csv', '2.csv', '205.csv', '1582.csv', '1767.csv', '333.csv', '839.csv', '646.csv', '810.csv', '69.csv', '1965.csv', '1319.csv', '848.csv', '1375.csv', '372.csv', '1674.csv', '924.csv', '1948.csv', '764.csv', '1874.csv', '2004.csv', '739.csv', '1348.csv', '229.csv', '42.csv', '31.csv', '64.csv', '1883.csv', '1322.csv', '1080.csv', '1017.csv', '2040.csv', '1081.csv', '127.csv', '1687.csv', '1390.csv', '1980.csv', '653.csv', '2041.csv', '1222.csv', '1551.csv', '640.csv', '555.csv', '1984.csv', '807.csv', '349.csv', '1051.csv', '1917.csv', '1736.csv', '1334.csv', '1944.csv', '1236.csv', '1486.csv', '1069.csv', '32.csv', '194.csv', '310.csv', '1049.csv', '1831.csv', '126.csv', '2052.csv', '1143.csv', '13.csv', '691.csv', '1520.csv', '308.csv', '376.csv', '231.csv', '1881.csv', '1805.csv', '1864.csv', '1852.csv', '703.csv', '1549.csv', '353.csv', '355.csv', '1306.csv', '1135.csv', '1834.csv', '2033.csv', '686.csv', '1381.csv', '216.csv', '1099.csv', '1651.csv', '1818.csv', '780.csv', '1748.csv', '214.csv', '1641.csv', '1569.csv', '944.csv', '1552.csv', '565.csv', '1353.csv', '808.csv', '1931.csv', '668.csv', '1630.csv', '2029.csv', '1213.csv', '1764.csv', '475.csv', '436.csv', '1699.csv', '362.csv', '211.csv', '55.csv', '153.csv', '1155.csv', '2020.csv', '131.csv', '609.csv', '1796.csv', '1220.csv', '1413.csv', '392.csv', '1108.csv', '1217.csv', '747.csv', '662.csv', '.~lock.7.csv#', '1251.csv', '638.csv', '512.csv', '527.csv', '321.csv', '554.csv', '1182.csv', '525.csv', '1438.csv', '1064.csv', '2005.csv', '172.csv', '1862.csv', '312.csv', '1594.csv', '1472.csv', '1776.csv', '1574.csv', '1706.csv', '1405.csv', '1315.csv', '741.csv', '1138.csv', '487.csv', '789.csv', '1519.csv', '544.csv', '1247.csv', '1021.csv', '960.csv', '1263.csv', '406.csv', '155.csv', '968.csv', '632.csv', '1305.csv', '1757.csv', '462.csv', '623.csv', '1570.csv', '1464.csv', '1128.csv', '1398.csv', '1344.csv', '1786.csv', '301.csv', '40.csv', '37.csv', '253.csv', '1730.csv', '1606.csv', '111.csv', '175.csv', '318.csv', '699.csv', '1697.csv', '1845.csv', '1043.csv', '665.csv', '1164.csv', '1868.csv', '1610.csv', '193.csv', '964.csv', '299.csv', '611.csv', '1856.csv', '245.csv', '1993.csv', '46.csv', '407.csv', '1337.csv', '513.csv', '1335.csv', '1937.csv', '1957.csv', '1943.csv', '472.csv', '1460.csv', '1540.csv', '2036.csv', '989.csv', '22.csv', '926.csv', '729.csv', '1976.csv', '1958.csv', '1027.csv', '1161.csv', '1563.csv', '1539.csv', '53.csv', '1165.csv', '1996.csv', '1250.csv', '980.csv', '530.csv', '746.csv', '514.csv', '1801.csv', '1245.csv', '121.csv', '99.csv', '1014.csv', '468.csv', '1100.csv', '12.csv', '5.csv', '1530.csv', '1008.csv', '322.csv', '238.csv', '1416.csv', '1844.csv', '1618.csv', '1847.csv', '1794.csv', '1997.csv', '1386.csv', '1517.csv', '884.csv', '1668.csv', '1688.csv', '1073.csv', '1512.csv', '1087.csv', '742.csv', '993.csv', '426.csv', '1088.csv', '634.csv', '1795.csv', '2026.csv', '130.csv', '1059.csv', '1902.csv', '162.csv', '846.csv', '656.csv', '1357.csv', '1133.csv', '712.csv', '1141.csv', '1953.csv', '685.csv', '1973.csv', '1304.csv', '163.csv', '1402.csv', '303.csv', '1052.csv', '177.csv', '869.csv', '824.csv', '2051.csv', '1092.csv', '1819.csv', '635.csv', '498.csv', '1266.csv', '1966.csv', '1382.csv', '1362.csv', '241.csv', '1232.csv', '1702.csv', '1420.csv', '1592.csv', '290.csv', '201.csv', '1544.csv', '1041.csv', '1137.csv', '610.csv', '1001.csv', '1814.csv', '1255.csv', '1242.csv', '1991.csv', '1691.csv', '142.csv', '1415.csv', '1528.csv', '1815.csv', '750.csv', '1626.csv', '654.csv', '1434.csv', '381.csv', '2035.csv', '354.csv', '629.csv', '2001.csv', '1629.csv', '1806.csv', '1187.csv', '1638.csv', '779.csv', '1239.csv', '1575.csv', '1838.csv', '1619.csv', '138.csv', '1175.csv', '1500.csv', '2012.csv', '1207.csv', '151.csv', '1016.csv', '1208.csv', '1292.csv', '1777.csv', '1029.csv', '56.csv', '1915.csv', '2023.csv', '1061.csv', '1830.csv', '1483.csv', '891.csv', '1036.csv', '106.csv', '1511.csv', '1223.csv', '1149.csv', '1820.csv', '1470.csv', '1663.csv', '959.csv', '1916.csv', '1555.csv', '314.csv', '357.csv', '1648.csv', '1493.csv', '1784.csv', '2022.csv', '1224.csv']\n"
     ]
    },
    {
     "ename": "ValueError",
     "evalue": "invalid literal for int() with base 10: '.~lock.7.'",
     "output_type": "error",
     "traceback": [
      "\u001b[0;31m---------------------------------------------------------------------------\u001b[0m",
      "\u001b[0;31mValueError\u001b[0m                                Traceback (most recent call last)",
      "Cell \u001b[0;32mIn[7], line 31\u001b[0m\n\u001b[1;32m     28\u001b[0m                 writer\u001b[38;5;241m.\u001b[39mwriterow(feat)\n\u001b[1;32m     29\u001b[0m             num \u001b[38;5;241m=\u001b[39m num \u001b[38;5;241m+\u001b[39m \u001b[38;5;241m1\u001b[39m\n\u001b[0;32m---> 31\u001b[0m createDataFile(\u001b[38;5;124m'\u001b[39m\u001b[38;5;124mrecap_data_mer\u001b[39m\u001b[38;5;124m'\u001b[39m, NUMBER_FILES)\n",
      "Cell \u001b[0;32mIn[7], line 20\u001b[0m, in \u001b[0;36mcreateDataFile\u001b[0;34m(file_data, files_number)\u001b[0m\n\u001b[1;32m     18\u001b[0m song_id \u001b[38;5;241m=\u001b[39m \u001b[38;5;241m0\u001b[39m\n\u001b[1;32m     19\u001b[0m \u001b[38;5;28;01mfor\u001b[39;00m file \u001b[38;5;129;01min\u001b[39;00m features_files:\n\u001b[0;32m---> 20\u001b[0m     song_id \u001b[38;5;241m=\u001b[39m \u001b[38;5;28mint\u001b[39m(file[:\u001b[38;5;241m-\u001b[39m\u001b[38;5;241m4\u001b[39m])\n\u001b[1;32m     21\u001b[0m     \u001b[38;5;28;01mif\u001b[39;00m song_id \u001b[38;5;241m<\u001b[39m\u001b[38;5;241m=\u001b[39m \u001b[38;5;241m1999\u001b[39m:\n\u001b[1;32m     22\u001b[0m         valence_for_song \u001b[38;5;241m=\u001b[39m (valences[valences[\u001b[38;5;124m'\u001b[39m\u001b[38;5;124msong_id\u001b[39m\u001b[38;5;124m'\u001b[39m] \u001b[38;5;241m==\u001b[39m song_id][\u001b[38;5;124m'\u001b[39m\u001b[38;5;124m valence_mean\u001b[39m\u001b[38;5;124m'\u001b[39m])\u001b[38;5;241m.\u001b[39miloc[\u001b[38;5;241m0\u001b[39m] \n",
      "\u001b[0;31mValueError\u001b[0m: invalid literal for int() with base 10: '.~lock.7.'"
     ]
    }
   ],
   "source": [
    "def createDataFile(file_data, files_number):\n",
    "    \n",
    "    # create the header of the matrix (features and values of 2 file)\n",
    "    columns_name = ['file'] + features + ['valence'] + ['arousal']\n",
    "    df = pd.DataFrame([], columns=columns_name)\n",
    "    df.to_csv(file_data + \".csv\")\n",
    "    \n",
    "    # extract the name of the files\n",
    "    features_files = os.listdir(FEATURES_PATH)\n",
    "    print(features_files)\n",
    "    \n",
    "    #extract valence values from files\n",
    "    valence_matrix = pd.read_csv(VALENCE_FILE)\n",
    "    valences = valence_matrix[['song_id', ' valence_mean', ' arousal_mean']]\n",
    "    \n",
    "    \n",
    "    # fill the matrix with data\n",
    "    num = 1\n",
    "    song_id = 0\n",
    "    for file in features_files:\n",
    "        song_id = int(file[:-4])\n",
    "        if song_id <= 1999:\n",
    "            valence_for_song = (valences[valences['song_id'] == song_id][' valence_mean']).iloc[0] \n",
    "            arousal_for_song = (valences[valences['song_id'] == song_id][' arousal_mean']).iloc[0] \n",
    "            feat = [num] + [file] + loadFeaturesFromFile(file) + [valence_for_song] + [arousal_for_song]\n",
    "            \n",
    "            with open(file_data + '.csv', mode='a', newline='') as file:  \n",
    "                writer = csv.writer(file)\n",
    "                writer.writerow(feat)\n",
    "            num = num + 1\n",
    "\n",
    "createDataFile('recap_data_mer', NUMBER_FILES)\n"
   ]
  },
  {
   "cell_type": "code",
   "execution_count": 21,
   "id": "3e52aee2-9dd9-4116-bcd4-d3f93e99b658",
   "metadata": {},
   "outputs": [
    {
     "name": "stdout",
     "output_type": "stream",
     "text": [
      "['1049.csv', '1831.csv', '126.csv', '2052.csv', '1143.csv', '13.csv', '691.csv', '1520.csv', '308.csv', '376.csv', '231.csv', '1881.csv', '1805.csv', '1864.csv', '1852.csv', '703.csv', '1549.csv', '353.csv', '355.csv', '1306.csv', '1135.csv', '1834.csv', '2033.csv', '686.csv', '1381.csv', '216.csv', '1099.csv', '1651.csv', '1818.csv', '780.csv', '1748.csv', '214.csv', '1641.csv', '1569.csv', '944.csv', '1552.csv', '565.csv', '1353.csv', '808.csv', '1931.csv', '668.csv', '1630.csv', '2029.csv', '1213.csv', '1764.csv', '475.csv', '436.csv', '1699.csv', '362.csv', '211.csv', '55.csv', '153.csv', '1155.csv', '2020.csv', '131.csv', '609.csv', '1796.csv', '1220.csv', '1413.csv', '392.csv', '1108.csv', '1217.csv', '747.csv', '662.csv', '.~lock.7.csv#', '1251.csv', '638.csv', '512.csv', '527.csv', '321.csv', '554.csv', '1182.csv', '525.csv', '1438.csv', '1064.csv', '2005.csv', '172.csv', '1862.csv', '312.csv', '1594.csv', '1472.csv', '1776.csv', '1574.csv', '1706.csv', '1405.csv', '1315.csv', '741.csv', '1138.csv', '487.csv', '789.csv', '1519.csv', '544.csv', '1247.csv', '1021.csv', '960.csv', '1263.csv', '406.csv', '155.csv', '968.csv', '632.csv', '1305.csv', '1757.csv', '462.csv', '623.csv', '1570.csv', '1464.csv', '1128.csv', '1398.csv', '1344.csv', '1786.csv', '301.csv', '40.csv', '37.csv', '253.csv', '1730.csv', '1606.csv', '111.csv', '175.csv', '318.csv', '699.csv', '1697.csv', '1845.csv', '1043.csv', '665.csv', '1164.csv', '1868.csv', '1610.csv', '193.csv', '964.csv', '299.csv', '611.csv', '1856.csv', '245.csv', '1993.csv', '46.csv', '407.csv', '1337.csv', '513.csv', '1335.csv', '1937.csv', '1957.csv', '1943.csv', '472.csv', '1460.csv', '1540.csv', '2036.csv', '989.csv', '22.csv', '926.csv', '729.csv', '1976.csv', '1958.csv', '1027.csv', '1161.csv', '1563.csv', '1539.csv', '53.csv', '1165.csv', '1996.csv', '1250.csv', '980.csv', '530.csv', '746.csv', '514.csv', '1801.csv', '1245.csv', '121.csv', '99.csv', '1014.csv', '468.csv', '1100.csv', '12.csv', '5.csv', '1530.csv', '1008.csv', '322.csv', '238.csv', '1416.csv', '1844.csv', '1618.csv', '1847.csv', '1794.csv', '1997.csv', '1386.csv', '1517.csv', '884.csv', '1668.csv', '1688.csv', '1073.csv', '1512.csv', '1087.csv', '742.csv', '993.csv', '426.csv', '1088.csv', '634.csv', '1795.csv', '2026.csv', '130.csv', '1059.csv', '1902.csv', '162.csv', '846.csv', '656.csv', '1357.csv', '1133.csv', '712.csv', '1141.csv', '1953.csv', '685.csv', '1973.csv', '1304.csv', '163.csv', '1402.csv', '303.csv', '1052.csv', '177.csv', '869.csv', '824.csv', '2051.csv', '1092.csv', '1819.csv', '635.csv', '498.csv', '1266.csv', '1966.csv', '1382.csv', '1362.csv', '241.csv', '1232.csv', '1702.csv', '1420.csv', '1592.csv', '290.csv', '201.csv', '1544.csv', '1041.csv', '1137.csv', '610.csv', '1001.csv', '1814.csv', '1255.csv', '1242.csv', '1991.csv', '1691.csv', '142.csv', '1415.csv', '1528.csv', '1815.csv', '750.csv', '1626.csv', '654.csv', '1434.csv', '381.csv', '2035.csv', '354.csv', '629.csv', '2001.csv', '1629.csv', '1806.csv', '1187.csv', '1638.csv', '779.csv', '1239.csv', '1575.csv', '1838.csv', '1619.csv', '138.csv', '1175.csv', '1500.csv', '2012.csv', '1207.csv', '151.csv', '1016.csv', '1208.csv', '1292.csv', '1777.csv', '1029.csv', '56.csv', '1915.csv', '2023.csv', '1061.csv', '1830.csv', '1483.csv', '891.csv', '1036.csv', '106.csv', '1511.csv', '1223.csv', '1149.csv', '1820.csv', '1470.csv', '1663.csv', '959.csv', '1916.csv', '1555.csv', '314.csv', '357.csv', '1648.csv', '1493.csv', '1784.csv', '2022.csv', '1224.csv']\n",
      "1803\n"
     ]
    }
   ],
   "source": [
    "# extract the name of the files\n",
    "features_files = os.listdir(FEATURES_PATH)\n",
    "print(os.listdir(FEATURES_PATH)[1500:])\n",
    "print(len(os.listdir(FEATURES_PATH)))"
   ]
  },
  {
   "cell_type": "code",
   "execution_count": null,
   "id": "917929b5-d93e-4625-8940-834e42b035ed",
   "metadata": {},
   "outputs": [],
   "source": []
  },
  {
   "cell_type": "code",
   "execution_count": null,
   "id": "0f04d0dc-17f0-490f-bf46-1a57bb51dab7",
   "metadata": {},
   "outputs": [],
   "source": []
  },
  {
   "cell_type": "code",
   "execution_count": null,
   "id": "65f1217f-0c4c-4f33-b6b5-e080953386a2",
   "metadata": {},
   "outputs": [],
   "source": []
  },
  {
   "cell_type": "code",
   "execution_count": null,
   "id": "ef5f7a09-22b7-4759-973e-5301230df2cd",
   "metadata": {},
   "outputs": [],
   "source": []
  }
 ],
 "metadata": {
  "kernelspec": {
   "display_name": "Python 3 (ipykernel)",
   "language": "python",
   "name": "python3"
  },
  "language_info": {
   "codemirror_mode": {
    "name": "ipython",
    "version": 3
   },
   "file_extension": ".py",
   "mimetype": "text/x-python",
   "name": "python",
   "nbconvert_exporter": "python",
   "pygments_lexer": "ipython3",
   "version": "3.11.7"
  }
 },
 "nbformat": 4,
 "nbformat_minor": 5
}
