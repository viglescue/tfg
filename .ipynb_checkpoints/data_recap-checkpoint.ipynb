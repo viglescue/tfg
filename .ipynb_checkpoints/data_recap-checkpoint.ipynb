{
 "cells": [
  {
   "cell_type": "markdown",
   "id": "57af3698-8d48-4790-bc10-389eb1fe565c",
   "metadata": {},
   "source": [
    "# Consts and imports"
   ]
  },
  {
   "cell_type": "code",
   "execution_count": 10,
   "id": "edc76cb5-cd34-4e36-b92b-7af8b0eadde1",
   "metadata": {},
   "outputs": [],
   "source": [
    "FEATURES_PATH = 'DEAM/features'\n",
    "VALENCE_FILE = 'DEAM/annotations/annotations averaged per song/song_level/static_annotations_averaged_songs_1_2000.csv'\n",
    "GENRE_FILE = 'DEAM/metadata/metadata_2013.csv'\n",
    "\n",
    "\n",
    "import csv\n",
    "import os\n",
    "import pandas as pd\n",
    "import numpy as np\n"
   ]
  },
  {
   "cell_type": "markdown",
   "id": "3941e72f-24a6-493b-a0a8-67187fd14979",
   "metadata": {},
   "source": [
    "# Calculate the average of the feature"
   ]
  },
  {
   "cell_type": "code",
   "execution_count": 11,
   "id": "bb948236-5a9c-491d-b093-a8c06c99f5fe",
   "metadata": {},
   "outputs": [],
   "source": [
    "def loadFeaturesFromFile (file_name):\n",
    "    features_values = []\n",
    "    with open('DEAM/features/' + file_name, newline='') as csvfile:\n",
    "        data = list(csv.reader(csvfile, delimiter=';'))\n",
    "    for i in range (1, len(data[1])):\n",
    "        media = 0.0\n",
    "        suma = 0.0\n",
    "        for j in range (1, len(data)):\n",
    "            suma += float((data[j][i]))\n",
    "            media = suma / (len(data) - 1)\n",
    "        features_values.append(media)\n",
    "    return features_values\n"
   ]
  },
  {
   "cell_type": "markdown",
   "id": "1b8b05e4-d3dd-49d6-be3b-115d6e37e0b7",
   "metadata": {},
   "source": [
    "# Extract the name of the features"
   ]
  },
  {
   "cell_type": "code",
   "execution_count": 12,
   "id": "b80bc370-775d-4147-8657-86ca74593065",
   "metadata": {},
   "outputs": [],
   "source": [
    "def extractFeaturesNames():\n",
    "    with open('DEAM/features/2.csv', newline='') as csvfile:\n",
    "        data = list(csv.reader(csvfile, delimiter=';'))\n",
    "    features = data[0]\n",
    "    features = features[1:]\n",
    "    #print(len(features))\n",
    "    #print(features)\n",
    "    return features\n",
    "\n",
    "features = extractFeaturesNames()"
   ]
  },
  {
   "cell_type": "markdown",
   "id": "6a78daf9-a403-453f-b5e1-197c6f8c5f0f",
   "metadata": {},
   "source": [
    "# Create the table (features, valence, arousal)"
   ]
  },
  {
   "cell_type": "code",
   "execution_count": 13,
   "id": "c938a9fe-ebd8-4014-920d-5c4a777d1855",
   "metadata": {},
   "outputs": [],
   "source": [
    "def createDataFile(file_data):\n",
    "    \n",
    "    # create the header of the matrix (features and values of 2 file)\n",
    "    columns_name = ['file'] + features + ['valence'] + ['arousal']\n",
    "    df = pd.DataFrame([], columns=columns_name)\n",
    "    df.to_csv(file_data + \".csv\")\n",
    "    \n",
    "    # extract the name of the files\n",
    "    features_files = os.listdir(FEATURES_PATH)\n",
    "    \n",
    "    #extract valence values from files\n",
    "    valence_matrix = pd.read_csv(VALENCE_FILE)\n",
    "    valences = valence_matrix[['song_id', ' valence_mean', ' arousal_mean']]\n",
    "    \n",
    "    \n",
    "    # fill the matrix with data\n",
    "    num = 1\n",
    "    song_id = 0\n",
    "    for file in features_files:\n",
    "        song_id = int(file[:-4])\n",
    "        if song_id <= 1999:\n",
    "            valence_for_song = (valences[valences['song_id'] == song_id][' valence_mean']).iloc[0] \n",
    "            arousal_for_song = (valences[valences['song_id'] == song_id][' arousal_mean']).iloc[0] \n",
    "            feat = [num] + [file] + loadFeaturesFromFile(file) + [valence_for_song] + [arousal_for_song]\n",
    "            \n",
    "            with open(file_data + '.csv', mode='a', newline='') as file:  \n",
    "                writer = csv.writer(file)\n",
    "                writer.writerow(feat)\n",
    "            num = num + 1\n",
    "\n",
    "createDataFile('recap_data')\n"
   ]
  },
  {
   "cell_type": "code",
   "execution_count": null,
   "id": "0f04d0dc-17f0-490f-bf46-1a57bb51dab7",
   "metadata": {},
   "outputs": [],
   "source": []
  },
  {
   "cell_type": "code",
   "execution_count": null,
   "id": "65f1217f-0c4c-4f33-b6b5-e080953386a2",
   "metadata": {},
   "outputs": [],
   "source": []
  },
  {
   "cell_type": "code",
   "execution_count": null,
   "id": "ef5f7a09-22b7-4759-973e-5301230df2cd",
   "metadata": {},
   "outputs": [],
   "source": []
  }
 ],
 "metadata": {
  "kernelspec": {
   "display_name": "Python 3 (ipykernel)",
   "language": "python",
   "name": "python3"
  },
  "language_info": {
   "codemirror_mode": {
    "name": "ipython",
    "version": 3
   },
   "file_extension": ".py",
   "mimetype": "text/x-python",
   "name": "python",
   "nbconvert_exporter": "python",
   "pygments_lexer": "ipython3",
   "version": "3.11.7"
  }
 },
 "nbformat": 4,
 "nbformat_minor": 5
}
